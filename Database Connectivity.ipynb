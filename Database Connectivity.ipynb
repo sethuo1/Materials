{
 "cells": [
  {
   "cell_type": "code",
   "execution_count": 2,
   "metadata": {},
   "outputs": [
    {
     "name": "stdout",
     "output_type": "stream",
     "text": [
      "Defaulting to user installation because normal site-packages is not writeable\n",
      "Requirement already satisfied: mysql-connector-python in c:\\users\\s.sethumadhavan\\appdata\\roaming\\python\\python312\\site-packages (9.1.0)\n",
      "Note: you may need to restart the kernel to use updated packages.\n"
     ]
    },
    {
     "name": "stderr",
     "output_type": "stream",
     "text": [
      "\n",
      "[notice] A new release of pip is available: 24.0 -> 24.3.1\n",
      "[notice] To update, run: python.exe -m pip install --upgrade pip\n"
     ]
    }
   ],
   "source": [
    "#Installation of database connectivity\n",
    "pip install mysql-connector-python"
   ]
  },
  {
   "cell_type": "code",
   "execution_count": 4,
   "metadata": {},
   "outputs": [],
   "source": [
    "#Import sql Connectivity\n",
    "import mysql.connector"
   ]
  },
  {
   "cell_type": "code",
   "execution_count": 7,
   "metadata": {},
   "outputs": [],
   "source": [
    "#Create Database \n",
    "mydb=mysql.connector.connect(host='localhost',user='root',password='root@39')\n",
    "mycursor=mydb.cursor()\n",
    "mycursor.execute('CREATE DATABASE shop')"
   ]
  },
  {
   "cell_type": "code",
   "execution_count": 7,
   "metadata": {},
   "outputs": [
    {
     "name": "stdout",
     "output_type": "stream",
     "text": [
      "('accounts',)\n",
      "('bank_database',)\n",
      "('cafe_reservation',)\n",
      "('cafereservation',)\n",
      "('classicmodels1',)\n",
      "('company',)\n",
      "('demo',)\n",
      "('emp',)\n",
      "('factory',)\n",
      "('information_schema',)\n",
      "('library',)\n",
      "('minicost',)\n",
      "('mysql',)\n",
      "('naveen',)\n",
      "('normalization',)\n",
      "('performance_schema',)\n",
      "('shop',)\n",
      "('store',)\n",
      "('student',)\n",
      "('sys',)\n",
      "('worker',)\n"
     ]
    }
   ],
   "source": [
    "#To view the available databases\n",
    "\n",
    "import mysql.connector\n",
    "mydb=mysql.connector.connect(host='localhost',user='root',password='root@39')\n",
    "mycursor=mydb.cursor()\n",
    "mycursor.execute('SHOW DATABASES')\n",
    "for x in mycursor:\n",
    "    print(x)"
   ]
  },
  {
   "cell_type": "code",
   "execution_count": 5,
   "metadata": {},
   "outputs": [
    {
     "name": "stdout",
     "output_type": "stream",
     "text": [
      "table created\n"
     ]
    }
   ],
   "source": [
    "#Creating a table in shop databases\n",
    "import mysql.connector\n",
    "mydb=mysql.connector.connect(host='localhost', user='root', password='root@39',database='shop')\n",
    "mycursor=mydb.cursor()\n",
    "mycursor.execute('CREATE TABLE customers(Name Varchar(200),Address Varchar(200))')\n",
    "print('table created')"
   ]
  },
  {
   "cell_type": "code",
   "execution_count": 6,
   "metadata": {},
   "outputs": [],
   "source": [
    "#Altering the value and adding ID field\n",
    "\n",
    "mycursor.execute('ALTER TABLE customers ADD COLUMN id INT AUTO_INCREMENT PRIMARY KEY')"
   ]
  },
  {
   "cell_type": "code",
   "execution_count": 7,
   "metadata": {},
   "outputs": [
    {
     "name": "stdout",
     "output_type": "stream",
     "text": [
      "1 record inserted\n"
     ]
    }
   ],
   "source": [
    "#Inserting one value in a table using execute\n",
    "\n",
    "sql='INSERT INTO customers (name,address) VALUES (%s,%s)'\n",
    "val=('John','highway 21')\n",
    "mycursor.execute(sql,val)\n",
    "mydb.commit()\n",
    "print(mycursor.rowcount,\"record inserted\")\n",
    "\n"
   ]
  },
  {
   "cell_type": "code",
   "execution_count": 8,
   "metadata": {},
   "outputs": [
    {
     "name": "stdout",
     "output_type": "stream",
     "text": [
      "10 Record inserted\n"
     ]
    }
   ],
   "source": [
    "#Inserting many values in a table using executemany\n",
    "\n",
    "sql='INSERT INTO CUSTOMERS(name,address) Values (%s,%s)'\n",
    "val=[('John Doe', '123 Elm St, Springfield, IL'),\n",
    "('Jane Smith', '456 Oak Rd, Greenville, TX'),\n",
    "('Emily Johnson', '789 Pine Ave, Atlanta, GA'),\n",
    "('Michael Brown', '101 Maple Dr, Boston, MA'),\n",
    "('Sarah Davis', '202 Birch Ln, Miami, FL'),\n",
    "('David Wilson', '303 Cedar Blvd, Seattle, WA'),\n",
    "('Laura Moore', '404 Redwood Ct, Phoenix, AZ'),\n",
    "('James Taylor', '505 Willow Way, Dallas, TX'),\n",
    "('Lisa Anderson', '606 Ash St, Denver, CO'),\n",
    "('Robert Clark', '707 Fir Ave, San Francisco, CA')]\n",
    "mycursor.executemany(sql,val)\n",
    "mydb.commit()\n",
    "print(mycursor.rowcount,\"Record inserted\")"
   ]
  },
  {
   "cell_type": "code",
   "execution_count": 9,
   "metadata": {},
   "outputs": [
    {
     "name": "stdout",
     "output_type": "stream",
     "text": [
      "('John', 'highway 21', 1)\n",
      "('John Doe', '123 Elm St, Springfield, IL', 2)\n",
      "('Jane Smith', '456 Oak Rd, Greenville, TX', 3)\n",
      "('Emily Johnson', '789 Pine Ave, Atlanta, GA', 4)\n",
      "('Michael Brown', '101 Maple Dr, Boston, MA', 5)\n",
      "('Sarah Davis', '202 Birch Ln, Miami, FL', 6)\n",
      "('David Wilson', '303 Cedar Blvd, Seattle, WA', 7)\n",
      "('Laura Moore', '404 Redwood Ct, Phoenix, AZ', 8)\n",
      "('James Taylor', '505 Willow Way, Dallas, TX', 9)\n",
      "('Lisa Anderson', '606 Ash St, Denver, CO', 10)\n",
      "('Robert Clark', '707 Fir Ave, San Francisco, CA', 11)\n"
     ]
    }
   ],
   "source": [
    "mycursor.execute('SELECT * from customers')\n",
    "myresult=mycursor.fetchall()\n",
    "for x in myresult:\n",
    "    print(x)"
   ]
  },
  {
   "cell_type": "code",
   "execution_count": 26,
   "metadata": {},
   "outputs": [
    {
     "name": "stdout",
     "output_type": "stream",
     "text": [
      "('John Doe', '123 Elm St, Springfield, IL', 2)\n"
     ]
    }
   ],
   "source": [
    "import mysql.connector\n",
    "mydb=mysql.connector.connect(host='localhost', user='root', password='root@39',database='shop')\n",
    "mycursor=mydb.cursor()\n",
    "sql = \"SELECT * FROM customers WHERE id='2'\"\n",
    "mycursor.execute(sql)\n",
    "result = mycursor.fetchall()\n",
    "\n",
    "for row in result:\n",
    "    print(row)"
   ]
  },
  {
   "cell_type": "code",
   "execution_count": 4,
   "metadata": {},
   "outputs": [
    {
     "name": "stdout",
     "output_type": "stream",
     "text": [
      "None\n"
     ]
    },
    {
     "ename": "TypeError",
     "evalue": "'NoneType' object is not iterable",
     "output_type": "error",
     "traceback": [
      "\u001b[1;31m---------------------------------------------------------------------------\u001b[0m",
      "\u001b[1;31mTypeError\u001b[0m                                 Traceback (most recent call last)",
      "Cell \u001b[1;32mIn[4], line 45\u001b[0m\n\u001b[0;32m     40\u001b[0m             \u001b[38;5;28mprint\u001b[39m(x)\n\u001b[0;32m     44\u001b[0m obj1\u001b[38;5;241m=\u001b[39mstudent()\n\u001b[1;32m---> 45\u001b[0m \u001b[43mobj1\u001b[49m\u001b[38;5;241;43m.\u001b[39;49m\u001b[43mview\u001b[49m\u001b[43m(\u001b[49m\u001b[43m)\u001b[49m\n",
      "Cell \u001b[1;32mIn[4], line 39\u001b[0m, in \u001b[0;36mstudent.view\u001b[1;34m(self)\u001b[0m\n\u001b[0;32m     37\u001b[0m a\u001b[38;5;241m=\u001b[39m\u001b[38;5;28mself\u001b[39m\u001b[38;5;241m.\u001b[39mmycursor\u001b[38;5;241m.\u001b[39mexecute(sql)\n\u001b[0;32m     38\u001b[0m \u001b[38;5;28mprint\u001b[39m(a)\n\u001b[1;32m---> 39\u001b[0m \u001b[43m\u001b[49m\u001b[38;5;28;43;01mfor\u001b[39;49;00m\u001b[43m \u001b[49m\u001b[43mx\u001b[49m\u001b[43m \u001b[49m\u001b[38;5;129;43;01min\u001b[39;49;00m\u001b[43m \u001b[49m\u001b[43ma\u001b[49m\u001b[43m:\u001b[49m\n\u001b[0;32m     40\u001b[0m \u001b[43m    \u001b[49m\u001b[38;5;28;43mprint\u001b[39;49m\u001b[43m(\u001b[49m\u001b[43mx\u001b[49m\u001b[43m)\u001b[49m\n",
      "\u001b[1;31mTypeError\u001b[0m: 'NoneType' object is not iterable"
     ]
    }
   ],
   "source": [
    "import mysql.connector\n",
    "\n",
    "\n",
    "class student:\n",
    "    def __init__(self):\n",
    "        self.mydb=mysql.connector.connect(host='localhost', user='root', password='root@39',database='student')\n",
    "        self.mycursor=self.mydb.cursor()\n",
    "\n",
    "    def insert(self):\n",
    "        n=input(\"Enter the name of the Student:\")\n",
    "        S=input(\"Enter the Standard:\")\n",
    "        M=int(input(\"Enter the Total Marks:\"))\n",
    "        sql='INSERT INTO Stud (Name,Standard,Marks) VALUES (%s,%s,%s)'\n",
    "        val=(n,S,M)\n",
    "        self.mycursor.execute(sql,val)\n",
    "        self.mydb.commit()\n",
    "\n",
    "    def delete(self):\n",
    "        n=input('Enter the name of the student which you want to delete:')\n",
    "        sql=('DELETE FROM Stud WHERE NAME=%s')\n",
    "        val=[n]\n",
    "        self.mycursor.execute(sql,val)\n",
    "        self.mydb.commit()\n",
    "    \n",
    "    def Update(self):\n",
    "      \n",
    "        f=input(\"Enter your field or row where u want to edit: Name or Standard or Marks\")\n",
    "        c=input(\"Enter the value which you want to update\")\n",
    "        s=int(input(\"Enter the ID which you want to edit:\"))\n",
    "        sql=f\"UPDATE stud SET {f}={c} WHERE id={s}\"\n",
    "        self.mycursor.execute(sql)\n",
    "        self.mydb.commit()\n",
    "\n",
    "    def view(self):\n",
    "        #id=int(input(\"Enter the ID of the student to view the details:\"))\n",
    "        sql=f\"select * from stud where id=1\"\n",
    "        a=self.mycursor.execute(sql)\n",
    "        print(a)\n",
    "        for x in a:\n",
    "            print(x)\n",
    "           \n",
    "\n",
    "\n",
    "obj1=student()\n",
    "obj1.view()"
   ]
  }
 ],
 "metadata": {
  "kernelspec": {
   "display_name": "Python 3",
   "language": "python",
   "name": "python3"
  },
  "language_info": {
   "codemirror_mode": {
    "name": "ipython",
    "version": 3
   },
   "file_extension": ".py",
   "mimetype": "text/x-python",
   "name": "python",
   "nbconvert_exporter": "python",
   "pygments_lexer": "ipython3",
   "version": "3.12.3"
  }
 },
 "nbformat": 4,
 "nbformat_minor": 2
}
