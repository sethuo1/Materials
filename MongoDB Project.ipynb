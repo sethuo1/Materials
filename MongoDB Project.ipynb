{
 "cells": [
  {
   "cell_type": "code",
   "execution_count": 18,
   "metadata": {},
   "outputs": [
    {
     "name": "stdout",
     "output_type": "stream",
     "text": [
      "Sucessfully Inserted\n"
     ]
    }
   ],
   "source": [
    "from pymongo import MongoClient\n",
    "from bson import SON\n",
    "\n",
    "class Classroom:\n",
    "    def __init__(self):\n",
    "        client=MongoClient('mongodb://localhost:27017/')\n",
    "        self.db=client['school']\n",
    "        self.collection=self.db['student']\n",
    "    \n",
    "    def insert(self):\n",
    "        id=int(input(\"Enter ID\"))\n",
    "        name=input(\"Enter your name:\")\n",
    "        Tamil=int(input(\"Enter Tamil Mark:\"))\n",
    "        English=int(input(\"Enter English Mark\"))\n",
    "        Maths=int(input(\"Enter Maths Mark\"))\n",
    "        Science=int(input(\"Enter Science Mark\"))\n",
    "        Social=int(input(\"Enter Social Mark\"))\n",
    "        avg=(Tamil+English+Maths+Science+Social)/5\n",
    "        documents={\"_id\":id, \"name\":name,\"Tamil\":Tamil, \"English\":English,\"Maths\":Maths,\"Science\":Science,\"Social\":Social,\"Average\":avg}\n",
    "        self.collection.insert_one(documents)\n",
    "        print(\"Sucessfully Inserted\")\n",
    "\n",
    "    def Update(self):\n",
    "        id=int(input(\"Enter ID\"))\n",
    "        up=input(\"Enter the Field which you want to update:\")\n",
    "        va=int(input(\"Enter the Value which you want to update:\"))\n",
    "        self.collection.update_one({'_id':id},{'$set':{up:va}})\n",
    "        print(\"Sucessfully Updated\")\n",
    "\n",
    "    def Delete(self):\n",
    "        id=int(input(\"Enter ID\"))\n",
    "        self.collection.delete_many({'_id':id})\n",
    "        print(\"Sucessfully Deleted\")\n",
    "    \n",
    "    def display(self):\n",
    "        id=int(input(\"Enter ID\"))\n",
    "        documents=self.collection.find_one({\"_id\":id})\n",
    "        print (documents)\n",
    "        \n",
    "obj=Classroom()\n",
    "obj.insert()\n",
    "        "
   ]
  }
 ],
 "metadata": {
  "kernelspec": {
   "display_name": "Python 3",
   "language": "python",
   "name": "python3"
  },
  "language_info": {
   "codemirror_mode": {
    "name": "ipython",
    "version": 3
   },
   "file_extension": ".py",
   "mimetype": "text/x-python",
   "name": "python",
   "nbconvert_exporter": "python",
   "pygments_lexer": "ipython3",
   "version": "3.12.3"
  }
 },
 "nbformat": 4,
 "nbformat_minor": 2
}
