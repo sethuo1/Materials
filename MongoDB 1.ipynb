{
 "cells": [
  {
   "cell_type": "code",
   "execution_count": 3,
   "metadata": {},
   "outputs": [
    {
     "name": "stdout",
     "output_type": "stream",
     "text": [
      "Defaulting to user installation because normal site-packages is not writeable\n",
      "Requirement already satisfied: pymongo in c:\\users\\s.sethumadhavan\\appdata\\roaming\\python\\python312\\site-packages (4.10.1)\n",
      "Requirement already satisfied: dnspython<3.0.0,>=1.16.0 in c:\\users\\s.sethumadhavan\\appdata\\roaming\\python\\python312\\site-packages (from pymongo) (2.7.0)\n",
      "Note: you may need to restart the kernel to use updated packages.\n"
     ]
    },
    {
     "name": "stderr",
     "output_type": "stream",
     "text": [
      "\n",
      "[notice] A new release of pip is available: 24.0 -> 24.3.1\n",
      "[notice] To update, run: python.exe -m pip install --upgrade pip\n"
     ]
    }
   ],
   "source": [
    "#Instal monogodb\n",
    "pip install pymongo"
   ]
  },
  {
   "cell_type": "code",
   "execution_count": 11,
   "metadata": {},
   "outputs": [
    {
     "data": {
      "text/plain": [
       "InsertOneResult(ObjectId('6769218286d18b78a61dc485'), acknowledged=True)"
      ]
     },
     "execution_count": 11,
     "metadata": {},
     "output_type": "execute_result"
    }
   ],
   "source": [
    "from pymongo import MongoClient\n",
    "client=MongoClient('localhost',27017)\n",
    "\n",
    "#creating new Database\n",
    "db=client.newdb\n",
    "\n",
    "#creating collection\n",
    "people=db.people\n",
    "\n",
    "#inserting records\n",
    "people.insert_one({'name':'john','age':20})\n",
    "people.insert_one({'name':'lisa','age':30,'interest':['books','movies']})\n",
    "people.insert_one({'name':'john','age':30})\n",
    "people.insert_one({'name':'john','age':27})\n",
    "people.insert_one({'name':'john','age':40})\n",
    "people.insert_one({'name':'mike','age':60})\n",
    "people.insert_one({'name':'lisa','age':23,'interest':['books','movies']})\n"
   ]
  },
  {
   "cell_type": "code",
   "execution_count": 12,
   "metadata": {},
   "outputs": [
    {
     "name": "stdout",
     "output_type": "stream",
     "text": [
      "{'_id': ObjectId('6769218286d18b78a61dc47f'), 'name': 'john', 'age': 20}\n",
      "{'_id': ObjectId('6769218286d18b78a61dc480'), 'name': 'lisa', 'age': 30, 'interest': ['books', 'movies']}\n",
      "{'_id': ObjectId('6769218286d18b78a61dc481'), 'name': 'john', 'age': 30}\n",
      "{'_id': ObjectId('6769218286d18b78a61dc482'), 'name': 'john', 'age': 27}\n",
      "{'_id': ObjectId('6769218286d18b78a61dc483'), 'name': 'john', 'age': 40}\n",
      "{'_id': ObjectId('6769218286d18b78a61dc484'), 'name': 'mike', 'age': 60}\n",
      "{'_id': ObjectId('6769218286d18b78a61dc485'), 'name': 'lisa', 'age': 23, 'interest': ['books', 'movies']}\n"
     ]
    }
   ],
   "source": [
    "for person in people.find():\n",
    "    print(person)"
   ]
  },
  {
   "cell_type": "code",
   "execution_count": 17,
   "metadata": {},
   "outputs": [
    {
     "name": "stdout",
     "output_type": "stream",
     "text": [
      "676922a786d18b78a61dc489\n"
     ]
    }
   ],
   "source": [
    "#Creating the new one and getting the ID of the dict\n",
    "mike_id=people.insert_one({'name':'madhavan','age':23,'interest':['books','movies']}).inserted_id\n",
    "print(mike_id)"
   ]
  },
  {
   "cell_type": "code",
   "execution_count": 20,
   "metadata": {},
   "outputs": [
    {
     "name": "stdout",
     "output_type": "stream",
     "text": [
      "[{'_id': ObjectId('676922a786d18b78a61dc489'), 'name': 'madhavan', 'age': 23, 'interest': ['books', 'movies']}]\n"
     ]
    }
   ],
   "source": [
    "#viewing the name of the person  and age using ObjectID\n",
    "from bson.objectid import ObjectId\n",
    "print([p for p in people.find({'_id':ObjectId('676922a786d18b78a61dc489')})])"
   ]
  },
  {
   "cell_type": "code",
   "execution_count": 24,
   "metadata": {},
   "outputs": [
    {
     "name": "stdout",
     "output_type": "stream",
     "text": [
      "[{'_id': ObjectId('6769218286d18b78a61dc47f'), 'name': 'john', 'age': 20}, {'_id': ObjectId('6769218286d18b78a61dc485'), 'name': 'lisa', 'age': 23, 'interest': ['books', 'movies']}, {'_id': ObjectId('6769218c86d18b78a61dc486'), 'name': 'lisa', 'age': 23, 'interest': ['books', 'movies']}, {'_id': ObjectId('676921c786d18b78a61dc487'), 'name': 'sethu', 'age': 23, 'interest': ['books', 'movies']}, {'_id': ObjectId('676922a786d18b78a61dc489'), 'name': 'madhavan', 'age': 23, 'interest': ['books', 'movies']}]\n"
     ]
    }
   ],
   "source": [
    "# Listing the names in a list called people where age is less than 25 \n",
    "print([p for p in people.find({'age':{'$lt':25}})])"
   ]
  },
  {
   "cell_type": "code",
   "execution_count": 29,
   "metadata": {},
   "outputs": [
    {
     "name": "stdout",
     "output_type": "stream",
     "text": [
      "1\n"
     ]
    }
   ],
   "source": [
    "#Count the number of counts contains word sethu\n",
    "print(people.count_documents({'name':'sethu'}))"
   ]
  },
  {
   "cell_type": "code",
   "execution_count": 31,
   "metadata": {},
   "outputs": [
    {
     "data": {
      "text/plain": [
       "UpdateResult({'n': 1, 'nModified': 0, 'ok': 1.0, 'updatedExisting': True}, acknowledged=True)"
      ]
     },
     "execution_count": 31,
     "metadata": {},
     "output_type": "execute_result"
    }
   ],
   "source": [
    "#Update the already existing record using Object ID\n",
    "\n",
    "people.update_one({'_id':ObjectId('676922a786d18b78a61dc489')},{'$set':{'age':22}})\n"
   ]
  },
  {
   "cell_type": "code",
   "execution_count": 34,
   "metadata": {},
   "outputs": [
    {
     "data": {
      "text/plain": [
       "UpdateResult({'n': 1, 'nModified': 0, 'ok': 1.0, 'updatedExisting': True}, acknowledged=True)"
      ]
     },
     "execution_count": 34,
     "metadata": {},
     "output_type": "execute_result"
    }
   ],
   "source": [
    "#Update the already existing record using name\n",
    "people.update_one({'name':'sethu'},{'$set':{'age':22}})"
   ]
  },
  {
   "cell_type": "code",
   "execution_count": 36,
   "metadata": {},
   "outputs": [
    {
     "data": {
      "text/plain": [
       "DeleteResult({'n': 0, 'ok': 1.0}, acknowledged=True)"
      ]
     },
     "execution_count": 36,
     "metadata": {},
     "output_type": "execute_result"
    }
   ],
   "source": [
    "#delete the  existing record using age less than 22 not equal to\n",
    "people.delete_many({'age':{'$lt':22}})"
   ]
  },
  {
   "cell_type": "code",
   "execution_count": 45,
   "metadata": {},
   "outputs": [
    {
     "name": "stdout",
     "output_type": "stream",
     "text": [
      "{'_id': 'madhavan', 'averageAge': 22.0}\n",
      "{'_id': 'sethu', 'averageAge': 22.0}\n",
      "{'_id': 'lisa', 'averageAge': 25.333333333333332}\n",
      "{'_id': 'john', 'averageAge': 32.333333333333336}\n",
      "{'_id': 'mike', 'averageAge': 60.0}\n"
     ]
    }
   ],
   "source": [
    "#Group by and Aggregate\n",
    "from bson import SON\n",
    "pipeline=[{\n",
    "        '$group':{\n",
    "            '_id':'$name','averageAge':{'$avg':'$age'}\n",
    "        }\n",
    "},\n",
    "{\n",
    "'$sort':SON([('averageAge',1)])\n",
    "}\n",
    "]\n",
    "\n",
    "results=people.aggregate(pipeline)\n",
    "\n",
    "for result in results:\n",
    "    print(result)"
   ]
  },
  {
   "cell_type": "code",
   "execution_count": null,
   "metadata": {},
   "outputs": [],
   "source": []
  },
  {
   "cell_type": "code",
   "execution_count": null,
   "metadata": {},
   "outputs": [],
   "source": []
  },
  {
   "cell_type": "code",
   "execution_count": 51,
   "metadata": {},
   "outputs": [],
   "source": [
    "from pymongo import MongoClient\n",
    "\n",
    "#Connect to MongoDB \n",
    "client=MongoClient('mongodb://localhost:27017/')\n",
    "\n",
    "#Specify the database and collection\n",
    "db=client['test']\n",
    "collection=db['test1']"
   ]
  },
  {
   "cell_type": "code",
   "execution_count": 53,
   "metadata": {},
   "outputs": [
    {
     "name": "stdout",
     "output_type": "stream",
     "text": [
      "Inserted document ID:67692a3e86d18b78a61dc491\n"
     ]
    }
   ],
   "source": [
    "#Inserting Single Value using insert_one\n",
    "document={\"name\":\"Alice\",\"age\":30,\"city\":\"New york\"}\n",
    "result=collection.insert_one(document)\n",
    "print(f\"Inserted document ID:{result.inserted_id}\")"
   ]
  },
  {
   "cell_type": "code",
   "execution_count": 54,
   "metadata": {},
   "outputs": [
    {
     "name": "stdout",
     "output_type": "stream",
     "text": [
      "Inserted Document Id's:[ObjectId('67692b2986d18b78a61dc492'), ObjectId('67692b2986d18b78a61dc493'), ObjectId('67692b2986d18b78a61dc494')]\n"
     ]
    }
   ],
   "source": [
    "#Inserting Many value using insert_many\n",
    "documents=[{'name':'Bob',\"age\":25,\"city\":\"chicago\"},\n",
    "           {'name':'Charlie',\"age\":27,\"city\":\"San Francisco\"},\n",
    "           {'name':'Mad',\"age\":35,\"city\":\"India\"}]\n",
    "result=collection.insert_many(documents)\n",
    "print(f\"Inserted Document Id's:{result.inserted_ids}\")"
   ]
  },
  {
   "cell_type": "code",
   "execution_count": 59,
   "metadata": {},
   "outputs": [
    {
     "name": "stdout",
     "output_type": "stream",
     "text": [
      "{'_id': ObjectId('67692b2986d18b78a61dc494'), 'name': 'Mad', 'age': 35, 'city': 'India'}\n"
     ]
    }
   ],
   "source": [
    "#Find one documents in the collection\n",
    "documents=collection.find_one({\"name\":\"Mad\"})\n",
    "print (documents)"
   ]
  },
  {
   "cell_type": "code",
   "execution_count": 60,
   "metadata": {},
   "outputs": [
    {
     "name": "stdout",
     "output_type": "stream",
     "text": [
      "{'_id': ObjectId('67692a2086d18b78a61dc490'), 'name': 'Alice', 'age': 30, 'city': 'New york'}\n",
      "{'_id': ObjectId('67692b2986d18b78a61dc492'), 'name': 'Bob', 'age': 25, 'city': 'chicago'}\n",
      "{'_id': ObjectId('67692b2986d18b78a61dc493'), 'name': 'Charlie', 'age': 27, 'city': 'San Francisco'}\n",
      "{'_id': ObjectId('67692b2986d18b78a61dc494'), 'name': 'Mad', 'age': 35, 'city': 'India'}\n"
     ]
    }
   ],
   "source": [
    "#Find all documents in the collection\n",
    "documents=collection.find()\n",
    "for doc in documents:\n",
    "    print(doc)"
   ]
  },
  {
   "cell_type": "code",
   "execution_count": 62,
   "metadata": {},
   "outputs": [
    {
     "name": "stdout",
     "output_type": "stream",
     "text": [
      "{'_id': ObjectId('67692a2086d18b78a61dc490'), 'name': 'Alice', 'age': 30, 'city': 'New york'}\n"
     ]
    }
   ],
   "source": [
    "#Find documents where age > 30\n",
    "query={\"age\":{\"$gte\":30}} #gte-Greater than Equal to\n",
    "documents=collection.find(query)\n",
    "for doc in documents:\n",
    "    print(doc)"
   ]
  },
  {
   "cell_type": "code",
   "execution_count": 64,
   "metadata": {},
   "outputs": [],
   "source": [
    "#Update a single document\n",
    "query={\"name\":\"Mad\"}\n",
    "new_values={\"$set\":{\"age\":22}}\n",
    "result=collection.update_one(query,new_values)"
   ]
  },
  {
   "cell_type": "code",
   "execution_count": 65,
   "metadata": {},
   "outputs": [],
   "source": [
    "#Update all document which is greater than 30\n",
    "query={\"age\":{\"$gt\":25}}\n",
    "new_values={\"$set\":{\"city\":\"India\"}}\n",
    "result=collection.update_many(query,new_values)"
   ]
  },
  {
   "cell_type": "code",
   "execution_count": 66,
   "metadata": {},
   "outputs": [
    {
     "data": {
      "text/plain": [
       "InsertManyResult([ObjectId('67692fe186d18b78a61dc495'), ObjectId('67692fe186d18b78a61dc496'), ObjectId('67692fe186d18b78a61dc497'), ObjectId('67692fe186d18b78a61dc498'), ObjectId('67692fe186d18b78a61dc499'), ObjectId('67692fe186d18b78a61dc49a'), ObjectId('67692fe186d18b78a61dc49b'), ObjectId('67692fe186d18b78a61dc49c'), ObjectId('67692fe186d18b78a61dc49d'), ObjectId('67692fe186d18b78a61dc49e')], acknowledged=True)"
      ]
     },
     "execution_count": 66,
     "metadata": {},
     "output_type": "execute_result"
    }
   ],
   "source": [
    "data = [\n",
    "    {\"name\": \"Alice\", \"age\": 30, \"city\": \"New York\", \"hobbies\": [\"Reading\", \"Sports\"], \"salary\": 70000},\n",
    "    {\"name\": \"Bob\", \"age\": 35, \"city\": \"Los Angeles\", \"hobbies\": [\"Music\", \"Traveling\"], \"salary\": 85000},\n",
    "    {\"name\": \"Charlie\", \"age\": 28, \"city\": \"Chicago\", \"hobbies\": [\"Photography\", \"Cycling\"], \"salary\": 65000},\n",
    "    {\"name\": \"David\", \"age\": 40, \"city\": \"Miami\", \"hobbies\": [\"Cooking\", \"Fishing\"], \"salary\": 92000},\n",
    "    {\"name\": \"Eva\", \"age\": 33, \"city\": \"San Francisco\", \"hobbies\": [\"Writing\", \"Yoga\"], \"salary\": 78000},\n",
    "    {\"name\": \"Frank\", \"age\": 45, \"city\": \"Austin\", \"hobbies\": [\"Gaming\", \"Movies\"], \"salary\": 100000},\n",
    "    {\"name\": \"Grace\", \"age\": 25, \"city\": \"Seattle\", \"hobbies\": [\"Reading\", \"Art\"], \"salary\": 55000},\n",
    "    {\"name\": \"Hank\", \"age\": 50, \"city\": \"Boston\", \"hobbies\": [\"Golf\", \"Hiking\"], \"salary\": 110000},\n",
    "    {\"name\": \"Ivy\", \"age\": 32, \"city\": \"New York\", \"hobbies\": [\"Cooking\", \"Fitness\"], \"salary\": 70000},\n",
    "    {\"name\": \"Jack\", \"age\": 38, \"city\": \"Los Angeles\", \"hobbies\": [\"Running\", \"Traveling\"], \"salary\": 90000}\n",
    "]\n",
    "\n",
    "collection.insert_many(data)"
   ]
  },
  {
   "cell_type": "code",
   "execution_count": 68,
   "metadata": {},
   "outputs": [
    {
     "name": "stdout",
     "output_type": "stream",
     "text": [
      "{'_id': ObjectId('67692fe186d18b78a61dc496'), 'name': 'Bob', 'age': 35, 'city': 'Los Angeles', 'hobbies': ['Music', 'Traveling'], 'salary': 85000}\n",
      "{'_id': ObjectId('67692fe186d18b78a61dc498'), 'name': 'David', 'age': 40, 'city': 'Miami', 'hobbies': ['Cooking', 'Fishing'], 'salary': 92000}\n",
      "{'_id': ObjectId('67692fe186d18b78a61dc499'), 'name': 'Eva', 'age': 33, 'city': 'San Francisco', 'hobbies': ['Writing', 'Yoga'], 'salary': 78000}\n",
      "{'_id': ObjectId('67692fe186d18b78a61dc49a'), 'name': 'Frank', 'age': 45, 'city': 'Austin', 'hobbies': ['Gaming', 'Movies'], 'salary': 100000}\n",
      "{'_id': ObjectId('67692fe186d18b78a61dc49c'), 'name': 'Hank', 'age': 50, 'city': 'Boston', 'hobbies': ['Golf', 'Hiking'], 'salary': 110000}\n",
      "{'_id': ObjectId('67692fe186d18b78a61dc49d'), 'name': 'Ivy', 'age': 32, 'city': 'New York', 'hobbies': ['Cooking', 'Fitness'], 'salary': 70000}\n",
      "{'_id': ObjectId('67692fe186d18b78a61dc49e'), 'name': 'Jack', 'age': 38, 'city': 'Los Angeles', 'hobbies': ['Running', 'Traveling'], 'salary': 90000}\n"
     ]
    }
   ],
   "source": [
    "#Find all documents where age is greater than 25\n",
    "\n",
    "pipeline=[{\"$match\":{\"age\":{\"$gt\":30}}}]\n",
    "result=collection.aggregate(pipeline)\n",
    "for doc in result:\n",
    "    print(doc)"
   ]
  },
  {
   "cell_type": "code",
   "execution_count": 70,
   "metadata": {},
   "outputs": [
    {
     "name": "stdout",
     "output_type": "stream",
     "text": [
      "{'_id': 'Seattle', 'Total_age': 25}\n",
      "{'_id': 'Chicago', 'Total_age': 28}\n",
      "{'_id': 'San Francisco', 'Total_age': 33}\n",
      "{'_id': 'Miami', 'Total_age': 40}\n",
      "{'_id': 'Austin', 'Total_age': 45}\n",
      "{'_id': 'Boston', 'Total_age': 50}\n",
      "{'_id': 'New York', 'Total_age': 62}\n",
      "{'_id': 'Los Angeles', 'Total_age': 73}\n"
     ]
    }
   ],
   "source": [
    "from bson import SON\n",
    "pipeline=[{\n",
    "        '$group':{\n",
    "            '_id':'$city','Total_age':{'$sum':'$age'}\n",
    "        }\n",
    "},\n",
    "{\n",
    "'$sort':SON([('Total_age',1)])\n",
    "}\n",
    "]\n",
    "\n",
    "result=collection.aggregate(pipeline)\n",
    "for doc in result:\n",
    "    print(doc)"
   ]
  },
  {
   "cell_type": "code",
   "execution_count": 72,
   "metadata": {},
   "outputs": [
    {
     "data": {
      "text/plain": [
       "InsertManyResult([1, 2, 3], acknowledged=True)"
      ]
     },
     "execution_count": 72,
     "metadata": {},
     "output_type": "execute_result"
    }
   ],
   "source": [
    "documents=[{\"_id\":1, \"name\":\"Alice\",\"address\":\"123,Maple St\"},\n",
    "           {\"_id\":2, \"name\":\"Sethu\",\"address\":\"456,apple St\"},\n",
    "           {\"_id\":3, \"name\":\"madhavan\",\"address\":\"446,orange St\"}]\n",
    "collection.insert_many(documents)"
   ]
  }
 ],
 "metadata": {
  "kernelspec": {
   "display_name": "Python 3",
   "language": "python",
   "name": "python3"
  },
  "language_info": {
   "codemirror_mode": {
    "name": "ipython",
    "version": 3
   },
   "file_extension": ".py",
   "mimetype": "text/x-python",
   "name": "python",
   "nbconvert_exporter": "python",
   "pygments_lexer": "ipython3",
   "version": "3.12.3"
  }
 },
 "nbformat": 4,
 "nbformat_minor": 2
}
